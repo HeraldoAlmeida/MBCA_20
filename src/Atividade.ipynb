{
  "nbformat": 4,
  "nbformat_minor": 0,
  "metadata": {
    "colab": {
      "name": "Atividade.ipynb",
      "provenance": [],
      "collapsed_sections": []
    },
    "kernelspec": {
      "name": "python3",
      "display_name": "Python 3"
    }
  },
  "cells": [
    {
      "cell_type": "code",
      "metadata": {
        "id": "wa2-SeRxYceu",
        "colab_type": "code",
        "colab": {}
      },
      "source": [
        "#------------------------------------------------------------------------------\n",
        "#  Importar o conjunto de dados Digits em um dataframe do pandas\n",
        "#------------------------------------------------------------------------------\n",
        "import pandas as pd\n",
        "dataframe = pd.read_excel('./data/Digits.xlsx')"
      ],
      "execution_count": 89,
      "outputs": []
    },
    {
      "cell_type": "code",
      "metadata": {
        "id": "dTj3kdUEY2DI",
        "colab_type": "code",
        "colab": {}
      },
      "source": [
        "#------------------------------------------------------------------------------\n",
        "#  Criar os arrays numéricos correspondentes aos atributos e ao alvo\n",
        "#------------------------------------------------------------------------------\n",
        "X = dataframe.iloc[:,1:-1].values\n",
        "y = dataframe.iloc[:,-1].values"
      ],
      "execution_count": 90,
      "outputs": []
    },
    {
      "cell_type": "code",
      "metadata": {
        "id": "87Z08qfdY9R4",
        "colab_type": "code",
        "colab": {}
      },
      "source": [
        "from sklearn.model_selection import train_test_split\n",
        "\n",
        "X_treino, X_teste, y_treino, y_teste = train_test_split(\n",
        "    X, y,\n",
        "    test_size=500,\n",
        "    random_state=42\n",
        "    )"
      ],
      "execution_count": 91,
      "outputs": []
    },
    {
      "cell_type": "code",
      "metadata": {
        "id": "ZFFMcOg7Y_sE",
        "colab_type": "code",
        "colab": {}
      },
      "source": [
        "from sklearn.ensemble import RandomForestClassifier"
      ],
      "execution_count": 92,
      "outputs": []
    },
    {
      "cell_type": "code",
      "metadata": {
        "id": "2PN0qLr6ZDVa",
        "colab_type": "code",
        "colab": {
          "base_uri": "https://localhost:8080/",
          "height": 34
        },
        "outputId": "4703b248-a223-4d67-8200-5833171477be"
      },
      "source": [
        "classificador = RandomForestClassifier(\n",
        "        n_estimators = 150, \n",
        "        criterion = \"entropy\",\n",
        "        max_depth = 11,\n",
        "        min_samples_split = 2,\n",
        "        max_features = \"auto\",\n",
        "        min_impurity_decrease = 0,\n",
        "        bootstrap = False,\n",
        "        oob_score = False,\n",
        "        random_state = 42,\n",
        "        )\n",
        "\n",
        "classificador.fit(X_treino,y_treino)     \n",
        "y_resposta = classificador.predict(X_teste)     \n",
        "accuracia=100*accuracy_score(y_teste,y_resposta)     \n",
        "print ('k = %02d, acc = %4.1f' % (k, accuracia))\n"
      ],
      "execution_count": 97,
      "outputs": [
        {
          "output_type": "stream",
          "text": [
            "k = 99, acc = 98.4\n"
          ],
          "name": "stdout"
        }
      ]
    },
    {
      "cell_type": "code",
      "metadata": {
        "id": "uKeXBEkVZjgx",
        "colab_type": "code",
        "colab": {
          "base_uri": "https://localhost:8080/",
          "height": 221
        },
        "outputId": "24ce8ce1-4b1c-4720-ffd4-a41646713cbc"
      },
      "source": [
        "#------------------------------------------------------------------------------\n",
        "#  Mostrar a matriz de confusão e a medida de acuracia\n",
        "#------------------------------------------------------------------------------\n",
        "\n",
        "from sklearn.metrics import confusion_matrix, accuracy_score\n",
        "\n",
        "print ('Matriz de Confusao:')\n",
        "\n",
        "print (confusion_matrix(y_teste,y_resposta))\n",
        "\n",
        "print ( 'Acuracia:',100*accuracy_score(y_teste,y_resposta), '%')"
      ],
      "execution_count": 94,
      "outputs": [
        {
          "output_type": "stream",
          "text": [
            "Matriz de Confusao:\n",
            "[[47  0  0  0  1  0  0  0  0  0]\n",
            " [ 0 45  0  0  0  0  0  0  0  0]\n",
            " [ 0  0 44  0  0  0  0  0  0  0]\n",
            " [ 0  0  0 52  0  0  0  0  1  0]\n",
            " [ 0  0  0  0 56  0  0  0  0  0]\n",
            " [ 0  0  0  0  1 62  1  0  0  0]\n",
            " [ 0  0  0  0  0  1 48  0  0  0]\n",
            " [ 0  0  0  0  0  0  0 46  0  1]\n",
            " [ 0  1  0  0  0  0  0  0 39  0]\n",
            " [ 0  0  0  0  1  0  0  0  0 53]]\n",
            "Acuracia: 98.4 %\n"
          ],
          "name": "stdout"
        }
      ]
    },
    {
      "cell_type": "code",
      "metadata": {
        "id": "H2iKQQjLZnxK",
        "colab_type": "code",
        "colab": {}
      },
      "source": [
        ""
      ],
      "execution_count": 94,
      "outputs": []
    }
  ]
}